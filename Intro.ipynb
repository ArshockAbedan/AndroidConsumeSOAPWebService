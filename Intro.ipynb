{
  "nbformat": 4,
  "nbformat_minor": 0,
  "metadata": {
    "colab": {
      "name": "Intro.ipynb",
      "provenance": [],
      "collapsed_sections": [],
      "authorship_tag": "ABX9TyNsZeLzVWmFFGQJMzrhjRjb",
      "include_colab_link": true
    },
    "kernelspec": {
      "name": "python3",
      "display_name": "Python 3"
    },
    "language_info": {
      "name": "python"
    }
  },
  "cells": [
    {
      "cell_type": "markdown",
      "metadata": {
        "id": "view-in-github",
        "colab_type": "text"
      },
      "source": [
        "<a href=\"https://colab.research.google.com/github/ArshockAbedan/AndroidConsumeSOAPWebService/blob/master/Intro.ipynb\" target=\"_parent\"><img src=\"https://colab.research.google.com/assets/colab-badge.svg\" alt=\"Open In Colab\"/></a>"
      ]
    },
    {
      "cell_type": "code",
      "execution_count": 4,
      "metadata": {
        "colab": {
          "base_uri": "https://localhost:8080/"
        },
        "id": "l_p529X2BgLT",
        "outputId": "bf52b6e5-5480-4731-f2a8-71ee39a42c6d"
      },
      "outputs": [
        {
          "output_type": "execute_result",
          "data": {
            "text/plain": [
              "RandomForestClassifier(random_state=0)"
            ]
          },
          "metadata": {},
          "execution_count": 4
        }
      ],
      "source": [
        "from sklearn.ensemble import RandomForestClassifier\n",
        "clf = RandomForestClassifier(random_state=0)\n",
        "X = [[1, 2, 3], # 2samples, 3 features\n",
        "     [11, 12, 13]]\n",
        "y = [0, 1] # classes of each sample\n",
        "clf.fit(X,y)"
      ]
    },
    {
      "cell_type": "code",
      "source": [
        "clf.predict(X) # predict classes of the training data"
      ],
      "metadata": {
        "colab": {
          "base_uri": "https://localhost:8080/"
        },
        "id": "MkdjpphuEO9c",
        "outputId": "92d40110-8345-437c-a96b-36f49016fd92"
      },
      "execution_count": 5,
      "outputs": [
        {
          "output_type": "execute_result",
          "data": {
            "text/plain": [
              "array([0, 1])"
            ]
          },
          "metadata": {},
          "execution_count": 5
        }
      ]
    },
    {
      "cell_type": "code",
      "source": [
        "clf.predict([[4, 5, 6], [14, 15, 16]]) # predict classes of new data"
      ],
      "metadata": {
        "colab": {
          "base_uri": "https://localhost:8080/"
        },
        "id": "riNpV9aZElql",
        "outputId": "34d85de4-9dbb-4270-e224-3d384f6983ea"
      },
      "execution_count": 6,
      "outputs": [
        {
          "output_type": "execute_result",
          "data": {
            "text/plain": [
              "array([0, 1])"
            ]
          },
          "metadata": {},
          "execution_count": 6
        }
      ]
    },
    {
      "cell_type": "markdown",
      "source": [
        "Transformers and pre-processors"
      ],
      "metadata": {
        "id": "vBYD3e8uE9UR"
      }
    },
    {
      "cell_type": "code",
      "source": [
        "from sklearn.preprocessing import StandardScaler\n",
        "X = [[0, 15],\n",
        "     [1, -10]]\n",
        "# scale data according to computed scaling values\n",
        "StandardScaler().fit(X).transform(X)"
      ],
      "metadata": {
        "colab": {
          "base_uri": "https://localhost:8080/"
        },
        "id": "gfVe6JJKExN9",
        "outputId": "f4a765ba-0384-445a-b165-7ee177680de0"
      },
      "execution_count": 8,
      "outputs": [
        {
          "output_type": "execute_result",
          "data": {
            "text/plain": [
              "array([[-1.,  1.],\n",
              "       [ 1., -1.]])"
            ]
          },
          "metadata": {},
          "execution_count": 8
        }
      ]
    },
    {
      "cell_type": "markdown",
      "source": [
        "Pipelines: chaining pre-processors and estimators"
      ],
      "metadata": {
        "id": "WOylq2Y8GClX"
      }
    },
    {
      "cell_type": "code",
      "source": [
        "from sklearn.preprocessing import StandardScaler\n",
        "from sklearn.linear_model import  LogisticRegression\n",
        "from sklearn.pipeline import make_pipeline\n",
        "from sklearn.datasets import load_iris\n",
        "from sklearn.model_selection import train_test_split\n",
        "from sklearn.metrics import accuracy_score\n",
        "\n",
        "\n",
        "# create a pipeline object\n",
        "pipe = make_pipeline(\n",
        "    StandardScaler(),\n",
        "    LogisticRegression()\n",
        "    )\n",
        "\n",
        "# load the iris dataset and split it into train and test sets\n",
        "X, y = load_iris(return_X_y=True)\n",
        "X_train, X_test, y_train, y_test = train_test_split(X, y, random_state=0)\n",
        "\n",
        "# fit the whole pipeline\n",
        "pipe.fit(X_train, y_train)\n",
        "\n"
      ],
      "metadata": {
        "colab": {
          "base_uri": "https://localhost:8080/"
        },
        "id": "rScWVC84FHbo",
        "outputId": "1b22647e-d51e-49c5-ae51-9d90e28eba87"
      },
      "execution_count": 25,
      "outputs": [
        {
          "output_type": "execute_result",
          "data": {
            "text/plain": [
              "Pipeline(steps=[('standardscaler', StandardScaler()),\n",
              "                ('logisticregression', LogisticRegression())])"
            ]
          },
          "metadata": {},
          "execution_count": 25
        }
      ]
    },
    {
      "cell_type": "code",
      "source": [
        "# we can now use it like any other estimator\n",
        "accuracy_score(pipe.predict(X_test), y_test)"
      ],
      "metadata": {
        "colab": {
          "base_uri": "https://localhost:8080/"
        },
        "id": "WY56Ty-0G2uw",
        "outputId": "e9a7160f-cc23-4ddc-9c61-477551ee4fb8"
      },
      "execution_count": 26,
      "outputs": [
        {
          "output_type": "execute_result",
          "data": {
            "text/plain": [
              "0.9736842105263158"
            ]
          },
          "metadata": {},
          "execution_count": 26
        }
      ]
    },
    {
      "cell_type": "markdown",
      "source": [
        "Model evaluation"
      ],
      "metadata": {
        "id": "faIcrP1FI2zY"
      }
    },
    {
      "cell_type": "code",
      "source": [
        "from sklearn.datasets import make_regression\n",
        "from sklearn.linear_model import  LinearRegression\n",
        "from sklearn.model_selection import cross_validate\n",
        "\n",
        "X, y = make_regression(n_samples=1000, random_state=0)\n",
        "lr = LinearRegression()\n",
        "\n",
        "result = cross_validate(lr, X, y) # defualts to 5-fold cv\n",
        "result['test_score']"
      ],
      "metadata": {
        "colab": {
          "base_uri": "https://localhost:8080/"
        },
        "id": "LEAJLKRYIflV",
        "outputId": "1ef6c98e-768e-4eb1-8bbe-45c1afbbd7c7"
      },
      "execution_count": 34,
      "outputs": [
        {
          "output_type": "execute_result",
          "data": {
            "text/plain": [
              "array([1., 1., 1., 1., 1.])"
            ]
          },
          "metadata": {},
          "execution_count": 34
        }
      ]
    },
    {
      "cell_type": "code",
      "source": [
        "result"
      ],
      "metadata": {
        "colab": {
          "base_uri": "https://localhost:8080/"
        },
        "id": "SGK1AZteJf_P",
        "outputId": "828984d7-f73b-4ab6-e85e-936ba4b00f22"
      },
      "execution_count": 33,
      "outputs": [
        {
          "output_type": "execute_result",
          "data": {
            "text/plain": [
              "{'fit_time': array([0.03953314, 0.01855278, 0.01960015, 0.01883054, 0.01907635]),\n",
              " 'score_time': array([0.00074077, 0.00076795, 0.00073838, 0.00071812, 0.0007391 ]),\n",
              " 'test_score': array([1., 1., 1., 1., 1.])}"
            ]
          },
          "metadata": {},
          "execution_count": 33
        }
      ]
    },
    {
      "cell_type": "markdown",
      "source": [
        "Automatic parameters searches"
      ],
      "metadata": {
        "id": "fbP_fRMkKC0z"
      }
    },
    {
      "cell_type": "code",
      "source": [
        ""
      ],
      "metadata": {
        "id": "X5gnpesLJhoK"
      },
      "execution_count": null,
      "outputs": []
    }
  ]
}